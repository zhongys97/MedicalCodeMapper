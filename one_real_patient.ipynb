{
 "cells": [
  {
   "cell_type": "code",
   "execution_count": 1,
   "id": "d8729916-a73f-428c-b249-357a8b64eb3d",
   "metadata": {},
   "outputs": [],
   "source": [
    "import pandas as pd\n",
    "import numpy as np\n",
    "import datetime\n",
    "from ast import literal_eval\n",
    "\n",
    "from icd10cm_to_coding19 import *\n",
    "from icd9cm_to_icd10cm import *\n"
   ]
  },
  {
   "cell_type": "code",
   "execution_count": 2,
   "id": "7a07f9a1-41a5-42f6-8010-cd385f576e98",
   "metadata": {},
   "outputs": [],
   "source": [
    "CODING19_PATH = \"resources/old_coding19.tsv\"\n",
    "TREE_FILE_PATH = \"resources/coding19_tree.pickle\"\n",
    "\n",
    "MAP_REF_PATH_9CM_10CM = \"resources/icd9cm_icd10cm_table.csv\"\n"
   ]
  },
  {
   "cell_type": "code",
   "execution_count": 4,
   "id": "08b31b88-e8f9-411f-909d-a9fff85c43fe",
   "metadata": {},
   "outputs": [],
   "source": [
    "df = pd.read_csv(\"68950413.csv\")"
   ]
  },
  {
   "cell_type": "code",
   "execution_count": 5,
   "id": "d117e4e4-cc61-451b-b344-be05bdb9c3b7",
   "metadata": {},
   "outputs": [
    {
     "name": "stdout",
     "output_type": "stream",
     "text": [
      "   PATIENT_ID PATIENT_BIRTH_DT SNOMEDDESC DIAGNOSIS_ICD10_CD DIAGNOSIS_ICD_CD  \\\n",
      "8    68950413        8/10/1953        NaN                NaN           789.06   \n",
      "\n",
      "  RECORDED_DT  DIAGPOSKEY  ENCOUNTER_KEY  \n",
      "8  2011-10-26          30       34616125  \n"
     ]
    }
   ],
   "source": [
    "df_list = [d for _, d in df.groupby(['RECORDED_DT'])]\n",
    "print(df_list[2].head())"
   ]
  },
  {
   "cell_type": "code",
   "execution_count": 6,
   "id": "fc7a16f8-65de-4529-b59c-39f0fca758d8",
   "metadata": {},
   "outputs": [
    {
     "name": "stdout",
     "output_type": "stream",
     "text": [
      "133\n"
     ]
    }
   ],
   "source": [
    "print(len(df_list))\n"
   ]
  },
  {
   "cell_type": "code",
   "execution_count": 7,
   "id": "d8f4169e-4e38-42ef-b988-2df9a69506db",
   "metadata": {},
   "outputs": [],
   "source": [
    "icd9cm_to_10cm_mapper = ICD9CM_ICD10CM_Mapper(MAP_REF_PATH_9CM_10CM)\n",
    "icd10cm_to_coding19_mapper = ICD10CM_Coding19_Mapper(coding19_csv_path=CODING19_PATH, coding19_tree_hierarchy_path=TREE_FILE_PATH)"
   ]
  },
  {
   "cell_type": "code",
   "execution_count": 14,
   "id": "44fa0480-cc48-4b6c-a5b1-e7865fe66868",
   "metadata": {},
   "outputs": [],
   "source": [
    "rows_list = []\n",
    "for date_idx in range(len(df_list)):\n",
    "    cur_df = df_list[date_idx]\n",
    "    \n",
    "    icd10cm_codes = cur_df[\"DIAGNOSIS_ICD10_CD\"].dropna().to_list()\n",
    "    icd9cm_codes = cur_df[\"DIAGNOSIS_ICD_CD\"].dropna().to_list()\n",
    "    \n",
    "    # print(icd10cm_codes)\n",
    "    # print(icd9cm_codes)\n",
    "    \n",
    "    for icd9cm_code in icd9cm_codes:\n",
    "        map_success, mapped_icd10cm_codes = icd9cm_to_10cm_mapper.get_icd10cm_codes(icd9cm_code)\n",
    "        # print(mapped_icd10cm_codes)\n",
    "        if map_success:\n",
    "            icd10cm_codes = [*icd10cm_codes, *mapped_icd10cm_codes]\n",
    "    \n",
    "    coding19_one_date = []\n",
    "    for icd10cm_code in icd10cm_codes:\n",
    "        coding19_one_date = [*coding19_one_date, *icd10cm_to_coding19_mapper.map_all_relevant_icd10cm_coding19(icd10cm_code)]\n",
    "        \n",
    "    indices = icd10cm_to_coding19_mapper.indices_for_19k_vec_from_desc(coding19_one_date)\n",
    "    \n",
    "    indices = list(set(indices))\n",
    "    \n",
    "    row_dict = {\"PATIENT_ID\": cur_df.iloc[0,0], \"RECORDED_DT\": cur_df.iloc[0, 5],\"CODING19_INDICES\": str(indices)}\n",
    "    rows_list.append(row_dict)"
   ]
  },
  {
   "cell_type": "code",
   "execution_count": 15,
   "id": "5f0b1d96-7c58-492f-bc74-119e56006dee",
   "metadata": {},
   "outputs": [],
   "source": [
    "df = pd.DataFrame(rows_list)  "
   ]
  },
  {
   "cell_type": "code",
   "execution_count": 16,
   "id": "0170df07-4428-48ed-81b9-554979b2bc25",
   "metadata": {},
   "outputs": [
    {
     "data": {
      "text/html": [
       "<div>\n",
       "<style scoped>\n",
       "    .dataframe tbody tr th:only-of-type {\n",
       "        vertical-align: middle;\n",
       "    }\n",
       "\n",
       "    .dataframe tbody tr th {\n",
       "        vertical-align: top;\n",
       "    }\n",
       "\n",
       "    .dataframe thead th {\n",
       "        text-align: right;\n",
       "    }\n",
       "</style>\n",
       "<table border=\"1\" class=\"dataframe\">\n",
       "  <thead>\n",
       "    <tr style=\"text-align: right;\">\n",
       "      <th></th>\n",
       "      <th>PATIENT_ID</th>\n",
       "      <th>RECORDED_DT</th>\n",
       "      <th>CODING19_INDICES</th>\n",
       "    </tr>\n",
       "  </thead>\n",
       "  <tbody>\n",
       "    <tr>\n",
       "      <th>0</th>\n",
       "      <td>68950413</td>\n",
       "      <td>2011-05-20</td>\n",
       "      <td>[1763, 2916, 18437, 18438, 1452, 18446, 1744, ...</td>\n",
       "    </tr>\n",
       "    <tr>\n",
       "      <th>1</th>\n",
       "      <td>68950413</td>\n",
       "      <td>2011-09-09</td>\n",
       "      <td>[1351, 2633, 2634, 1452, 1357, 973, 944, 1744,...</td>\n",
       "    </tr>\n",
       "    <tr>\n",
       "      <th>2</th>\n",
       "      <td>68950413</td>\n",
       "      <td>2011-10-26</td>\n",
       "      <td>[12312, 1761, 12314, 1104]</td>\n",
       "    </tr>\n",
       "    <tr>\n",
       "      <th>3</th>\n",
       "      <td>68950413</td>\n",
       "      <td>2011-11-08</td>\n",
       "      <td>[12641, 1114, 1761]</td>\n",
       "    </tr>\n",
       "    <tr>\n",
       "      <th>4</th>\n",
       "      <td>68950413</td>\n",
       "      <td>2011-11-16</td>\n",
       "      <td>[1761, 1032, 1036, 1104, 5086, 12312, 1753, 12...</td>\n",
       "    </tr>\n",
       "    <tr>\n",
       "      <th>...</th>\n",
       "      <td>...</td>\n",
       "      <td>...</td>\n",
       "      <td>...</td>\n",
       "    </tr>\n",
       "    <tr>\n",
       "      <th>128</th>\n",
       "      <td>68950413</td>\n",
       "      <td>2022-01-15</td>\n",
       "      <td>[12994, 12995, 12996, 12997, 1757, 1119]</td>\n",
       "    </tr>\n",
       "    <tr>\n",
       "      <th>129</th>\n",
       "      <td>68950413</td>\n",
       "      <td>2022-01-17</td>\n",
       "      <td>[1025, 4642, 4646, 1065, 10302, 10310, 3527, 3...</td>\n",
       "    </tr>\n",
       "    <tr>\n",
       "      <th>130</th>\n",
       "      <td>68950413</td>\n",
       "      <td>2022-02-03</td>\n",
       "      <td>[967, 2633, 2636, 973, 1746, 4051, 1747, 1013,...</td>\n",
       "    </tr>\n",
       "    <tr>\n",
       "      <th>131</th>\n",
       "      <td>68950413</td>\n",
       "      <td>2022-02-14</td>\n",
       "      <td>[12994, 12995, 14436, 12997, 14438, 1764, 1299...</td>\n",
       "    </tr>\n",
       "    <tr>\n",
       "      <th>132</th>\n",
       "      <td>68950413</td>\n",
       "      <td>2022-06-02</td>\n",
       "      <td>[1746, 2355, 2365, 967]</td>\n",
       "    </tr>\n",
       "  </tbody>\n",
       "</table>\n",
       "<p>133 rows × 3 columns</p>\n",
       "</div>"
      ],
      "text/plain": [
       "     PATIENT_ID RECORDED_DT                                   CODING19_INDICES\n",
       "0      68950413  2011-05-20  [1763, 2916, 18437, 18438, 1452, 18446, 1744, ...\n",
       "1      68950413  2011-09-09  [1351, 2633, 2634, 1452, 1357, 973, 944, 1744,...\n",
       "2      68950413  2011-10-26                         [12312, 1761, 12314, 1104]\n",
       "3      68950413  2011-11-08                                [12641, 1114, 1761]\n",
       "4      68950413  2011-11-16  [1761, 1032, 1036, 1104, 5086, 12312, 1753, 12...\n",
       "..          ...         ...                                                ...\n",
       "128    68950413  2022-01-15           [12994, 12995, 12996, 12997, 1757, 1119]\n",
       "129    68950413  2022-01-17  [1025, 4642, 4646, 1065, 10302, 10310, 3527, 3...\n",
       "130    68950413  2022-02-03  [967, 2633, 2636, 973, 1746, 4051, 1747, 1013,...\n",
       "131    68950413  2022-02-14  [12994, 12995, 14436, 12997, 14438, 1764, 1299...\n",
       "132    68950413  2022-06-02                            [1746, 2355, 2365, 967]\n",
       "\n",
       "[133 rows x 3 columns]"
      ]
     },
     "execution_count": 16,
     "metadata": {},
     "output_type": "execute_result"
    }
   ],
   "source": [
    "df"
   ]
  },
  {
   "cell_type": "code",
   "execution_count": 9,
   "id": "a7afe4ee-a5ba-4583-8afb-59dca5f95d9b",
   "metadata": {},
   "outputs": [],
   "source": [
    "indices = df[\"CODING19_INDICES\"].to_list()\n",
    "cur_indices = indices[0]"
   ]
  },
  {
   "cell_type": "code",
   "execution_count": 10,
   "id": "5e9191aa-7a97-4241-aa50-22e16e9fea69",
   "metadata": {},
   "outputs": [
    {
     "name": "stdout",
     "output_type": "stream",
     "text": [
      "<class 'str'>\n"
     ]
    }
   ],
   "source": [
    "print(type(cur_indices))"
   ]
  },
  {
   "cell_type": "code",
   "execution_count": 11,
   "id": "2656a974-6f0d-40fe-96db-6dc8df2d6609",
   "metadata": {},
   "outputs": [
    {
     "name": "stdout",
     "output_type": "stream",
     "text": [
      "[18438, 18437, 1177, 1763, 1461, 1452, 948, 1744, 2916, 2910, 977, 1748, 18525, 18520, 1177, 1763, 18451, 18446, 1177, 1763]\n"
     ]
    }
   ],
   "source": [
    "cur_indices = literal_eval(cur_indices)\n",
    "print(cur_indices)"
   ]
  },
  {
   "cell_type": "code",
   "execution_count": 12,
   "id": "41ee365f-fd10-41c3-a4f1-6303106038b6",
   "metadata": {},
   "outputs": [],
   "source": [
    "accumulated = []\n",
    "for i in range(len(df)):\n",
    "    cur_indices = indices[i]\n",
    "    if i == 0:\n",
    "        accumulated.append(cur_indices)\n",
    "    else:\n",
    "        cur_indices = literal_eval(cur_indices)\n",
    "        existing_indices = literal_eval(accumulated[i-1])\n",
    "        new_accumulated = list(set([*cur_indices, *existing_indices]))\n",
    "        accumulated.append(str(new_accumulated))\n",
    "    \n",
    "        "
   ]
  },
  {
   "cell_type": "code",
   "execution_count": 13,
   "id": "9c971e3f-1eda-4f74-8ff6-55b66c5c307a",
   "metadata": {},
   "outputs": [],
   "source": [
    "df[\"ACCUMULATED_INDICES\"] = accumulated"
   ]
  },
  {
   "cell_type": "code",
   "execution_count": 14,
   "id": "a429a527-7fb9-4c04-9d09-c46474857708",
   "metadata": {},
   "outputs": [],
   "source": [
    "df.to_csv(\"68950413_coding19.csv\", index=False)"
   ]
  },
  {
   "cell_type": "code",
   "execution_count": null,
   "id": "c8cf5d42-a881-4977-a4b1-953485491b52",
   "metadata": {},
   "outputs": [],
   "source": []
  }
 ],
 "metadata": {
  "kernelspec": {
   "display_name": "Python 3 (ipykernel)",
   "language": "python",
   "name": "python3"
  },
  "language_info": {
   "codemirror_mode": {
    "name": "ipython",
    "version": 3
   },
   "file_extension": ".py",
   "mimetype": "text/x-python",
   "name": "python",
   "nbconvert_exporter": "python",
   "pygments_lexer": "ipython3",
   "version": "3.8.13"
  }
 },
 "nbformat": 4,
 "nbformat_minor": 5
}
