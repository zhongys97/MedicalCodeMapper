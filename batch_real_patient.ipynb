{
 "cells": [
  {
   "cell_type": "code",
   "execution_count": 3,
   "id": "d8729916-a73f-428c-b249-357a8b64eb3d",
   "metadata": {},
   "outputs": [],
   "source": [
    "import pandas as pd\n",
    "import numpy as np\n",
    "import datetime\n",
    "from ast import literal_eval\n",
    "\n",
    "from icd10cm_to_coding19 import *\n",
    "from icd9cm_to_icd10cm import *\n"
   ]
  },
  {
   "cell_type": "code",
   "execution_count": 4,
   "id": "7a07f9a1-41a5-42f6-8010-cd385f576e98",
   "metadata": {},
   "outputs": [],
   "source": [
    "CODING19_PATH = \"resources/old_coding19.tsv\"\n",
    "TREE_FILE_PATH = \"resources/coding19_tree.pickle\"\n",
    "\n",
    "MAP_REF_PATH_9CM_10CM = \"resources/icd9cm_icd10cm_table.csv\"\n"
   ]
  },
  {
   "cell_type": "code",
   "execution_count": 5,
   "id": "08b31b88-e8f9-411f-909d-a9fff85c43fe",
   "metadata": {},
   "outputs": [],
   "source": [
    "df = pd.read_csv(\"2000_patients.csv\")"
   ]
  },
  {
   "cell_type": "code",
   "execution_count": 6,
   "id": "d8f4169e-4e38-42ef-b988-2df9a69506db",
   "metadata": {},
   "outputs": [],
   "source": [
    "icd9cm_to_10cm_mapper = ICD9CM_ICD10CM_Mapper(MAP_REF_PATH_9CM_10CM)\n",
    "icd10cm_to_coding19_mapper = ICD10CM_Coding19_Mapper(coding19_csv_path=CODING19_PATH, coding19_tree_hierarchy_path=TREE_FILE_PATH)"
   ]
  },
  {
   "cell_type": "code",
   "execution_count": 9,
   "id": "5ded6b32-3dcb-40bb-8986-81e0f52ea82e",
   "metadata": {},
   "outputs": [],
   "source": [
    "def one_patient_coding19_df_not_cumulative(date_df_list):\n",
    "    rows_list = []\n",
    "    for date_idx in range(len(date_df_list)):\n",
    "        cur_df = date_df_list[date_idx]\n",
    "\n",
    "        icd10cm_codes = cur_df[\"DIAGNOSIS_ICD10_CD\"].dropna().to_list()\n",
    "        icd9cm_codes = cur_df[\"DIAGNOSIS_ICD_CD\"].dropna().to_list()\n",
    "\n",
    "        # print(icd10cm_codes)\n",
    "        # print(icd9cm_codes)\n",
    "\n",
    "        for icd9cm_code in icd9cm_codes:\n",
    "            map_success, mapped_icd10cm_codes = icd9cm_to_10cm_mapper.get_icd10cm_codes(icd9cm_code)\n",
    "            # print(mapped_icd10cm_codes)\n",
    "            if map_success:\n",
    "                icd10cm_codes = [*icd10cm_codes, *mapped_icd10cm_codes]\n",
    "\n",
    "        coding19_one_date = []\n",
    "        for icd10cm_code in icd10cm_codes:\n",
    "            coding19_one_date = [*coding19_one_date, *icd10cm_to_coding19_mapper.map_all_relevant_icd10cm_coding19(icd10cm_code)]\n",
    "\n",
    "        indices = icd10cm_to_coding19_mapper.indices_for_19k_vec_from_desc(coding19_one_date)\n",
    "\n",
    "        row_dict = {\"PATIENT_ID\": cur_df.iloc[0,0], \"RECORDED_DT\": cur_df.iloc[0, 5], \"CODING19_DESCRIPTION\": str(coding19_one_date), \"CODING19_INDICES\": str(indices)}\n",
    "        rows_list.append(row_dict)\n",
    "    df = pd.DataFrame(rows_list)\n",
    "    return df"
   ]
  },
  {
   "cell_type": "code",
   "execution_count": 10,
   "id": "2b75a603-7518-4a84-9908-9c43ab71d60b",
   "metadata": {},
   "outputs": [],
   "source": [
    "def add_cumulative_col(one_patient_coding19_df_not_cumulative):\n",
    "    indices = one_patient_coding19_df_not_cumulative[\"CODING19_INDICES\"].to_list()\n",
    "    accumulated = []\n",
    "    for i in range(len(one_patient_coding19_df_not_cumulative)):\n",
    "        cur_indices = indices[i]\n",
    "        if i == 0:\n",
    "            accumulated.append(cur_indices)\n",
    "        else:\n",
    "            cur_indices = literal_eval(cur_indices)\n",
    "            existing_indices = literal_eval(accumulated[i-1])\n",
    "            new_accumulated = list(set([*cur_indices, *existing_indices]))\n",
    "            accumulated.append(str(new_accumulated))\n",
    "    one_patient_coding19_df_not_cumulative[\"ACCUMULATED_INDICES\"] = accumulated\n",
    "    return one_patient_coding19_df_not_cumulative"
   ]
  },
  {
   "cell_type": "code",
   "execution_count": 12,
   "id": "b85b44a8-cdb1-4bca-bd87-34b9e72875dc",
   "metadata": {},
   "outputs": [],
   "source": [
    "one_patient_dfs = [d for _, d in df.groupby(['PATIENT_ID'])]"
   ]
  },
  {
   "cell_type": "markdown",
   "id": "e0267ce9-fedd-4826-9cee-b3387efd9970",
   "metadata": {},
   "source": [
    "# change 100!"
   ]
  },
  {
   "cell_type": "code",
   "execution_count": 17,
   "id": "43ad0ebf-7245-4abc-9c99-6a71bc91933b",
   "metadata": {},
   "outputs": [],
   "source": [
    "patient_dfs_to_concat = []\n",
    "for one_patient_df_idx in range(100):\n",
    "    df_list = [d for _, d in one_patient_dfs[one_patient_df_idx].groupby(['RECORDED_DT'])]\n",
    "    not_cumul_df = one_patient_coding19_df_not_cumulative(df_list)\n",
    "    cumul_df = add_cumulative_col(not_cumul_df)\n",
    "    patient_dfs_to_concat.append(cumul_df)\n",
    "combined_coding19_df = pd.concat(patient_dfs_to_concat, ignore_index=True)"
   ]
  },
  {
   "cell_type": "code",
   "execution_count": 18,
   "id": "a429a527-7fb9-4c04-9d09-c46474857708",
   "metadata": {},
   "outputs": [],
   "source": [
    "combined_coding19_df.to_csv(\"2000_patients_coding19.csv\", index=False)"
   ]
  },
  {
   "cell_type": "code",
   "execution_count": null,
   "id": "c8cf5d42-a881-4977-a4b1-953485491b52",
   "metadata": {},
   "outputs": [],
   "source": []
  }
 ],
 "metadata": {
  "kernelspec": {
   "display_name": "Python 3 (ipykernel)",
   "language": "python",
   "name": "python3"
  },
  "language_info": {
   "codemirror_mode": {
    "name": "ipython",
    "version": 3
   },
   "file_extension": ".py",
   "mimetype": "text/x-python",
   "name": "python",
   "nbconvert_exporter": "python",
   "pygments_lexer": "ipython3",
   "version": "3.8.13"
  }
 },
 "nbformat": 4,
 "nbformat_minor": 5
}
